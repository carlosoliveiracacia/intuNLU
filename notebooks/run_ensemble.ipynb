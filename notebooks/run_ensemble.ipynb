{
 "cells": [
  {
   "cell_type": "code",
   "execution_count": 1,
   "metadata": {},
   "outputs": [
    {
     "name": "stdout",
     "output_type": "stream",
     "text": [
      "/home/scpdxcs/intuNLU\n"
     ]
    }
   ],
   "source": [
    "%cd intuNLU"
   ]
  },
  {
   "cell_type": "code",
   "execution_count": 2,
   "metadata": {},
   "outputs": [
    {
     "name": "stdout",
     "output_type": "stream",
     "text": [
      "/home/scpdxcs/intuNLU\r\n"
     ]
    }
   ],
   "source": [
    "! pwd"
   ]
  },
  {
   "cell_type": "code",
   "execution_count": 3,
   "metadata": {},
   "outputs": [
    {
     "name": "stdout",
     "output_type": "stream",
     "text": [
      "/anaconda/envs/venv/lib/python3.6/distutils/dist.py:261: UserWarning: Unknown distribution option: 'python_version'\n",
      "  warnings.warn(msg)\n",
      "running install\n",
      "running bdist_egg\n",
      "running egg_info\n",
      "writing intunlu.egg-info/PKG-INFO\n",
      "writing dependency_links to intunlu.egg-info/dependency_links.txt\n",
      "writing requirements to intunlu.egg-info/requires.txt\n",
      "writing top-level names to intunlu.egg-info/top_level.txt\n",
      "reading manifest file 'intunlu.egg-info/SOURCES.txt'\n",
      "writing manifest file 'intunlu.egg-info/SOURCES.txt'\n",
      "installing library code to build/bdist.linux-x86_64/egg\n",
      "running install_lib\n",
      "running build_py\n",
      "creating build/bdist.linux-x86_64/egg\n",
      "creating build/bdist.linux-x86_64/egg/intunlu\n",
      "copying build/lib/intunlu/ensemble.py -> build/bdist.linux-x86_64/egg/intunlu\n",
      "copying build/lib/intunlu/evaluate.py -> build/bdist.linux-x86_64/egg/intunlu\n",
      "copying build/lib/intunlu/utils.py -> build/bdist.linux-x86_64/egg/intunlu\n",
      "copying build/lib/intunlu/__init__.py -> build/bdist.linux-x86_64/egg/intunlu\n",
      "copying build/lib/intunlu/train.py -> build/bdist.linux-x86_64/egg/intunlu\n",
      "copying build/lib/intunlu/finetunning.py -> build/bdist.linux-x86_64/egg/intunlu\n",
      "byte-compiling build/bdist.linux-x86_64/egg/intunlu/ensemble.py to ensemble.cpython-36.pyc\n",
      "byte-compiling build/bdist.linux-x86_64/egg/intunlu/evaluate.py to evaluate.cpython-36.pyc\n",
      "byte-compiling build/bdist.linux-x86_64/egg/intunlu/utils.py to utils.cpython-36.pyc\n",
      "byte-compiling build/bdist.linux-x86_64/egg/intunlu/__init__.py to __init__.cpython-36.pyc\n",
      "byte-compiling build/bdist.linux-x86_64/egg/intunlu/train.py to train.cpython-36.pyc\n",
      "byte-compiling build/bdist.linux-x86_64/egg/intunlu/finetunning.py to finetunning.cpython-36.pyc\n",
      "creating build/bdist.linux-x86_64/egg/EGG-INFO\n",
      "copying intunlu.egg-info/PKG-INFO -> build/bdist.linux-x86_64/egg/EGG-INFO\n",
      "copying intunlu.egg-info/SOURCES.txt -> build/bdist.linux-x86_64/egg/EGG-INFO\n",
      "copying intunlu.egg-info/dependency_links.txt -> build/bdist.linux-x86_64/egg/EGG-INFO\n",
      "copying intunlu.egg-info/requires.txt -> build/bdist.linux-x86_64/egg/EGG-INFO\n",
      "copying intunlu.egg-info/top_level.txt -> build/bdist.linux-x86_64/egg/EGG-INFO\n",
      "zip_safe flag not set; analyzing archive contents...\n",
      "creating 'dist/intunlu-1.0.0-py3.6.egg' and adding 'build/bdist.linux-x86_64/egg' to it\n",
      "removing 'build/bdist.linux-x86_64/egg' (and everything under it)\n",
      "Processing intunlu-1.0.0-py3.6.egg\n",
      "Removing /anaconda/envs/venv/lib/python3.6/site-packages/intunlu-1.0.0-py3.6.egg\n",
      "Copying intunlu-1.0.0-py3.6.egg to /anaconda/envs/venv/lib/python3.6/site-packages\n",
      "intunlu 1.0.0 is already the active version in easy-install.pth\n",
      "\n",
      "Installed /anaconda/envs/venv/lib/python3.6/site-packages/intunlu-1.0.0-py3.6.egg\n",
      "Processing dependencies for intunlu==1.0.0\n",
      "Searching for tqdm==4.49.0\n",
      "Reading https://pypi.org/simple/tqdm/\n",
      "Downloading https://files.pythonhosted.org/packages/73/d5/f220e0c69b2f346b5649b66abebb391df1a00a59997a7ccf823325bd7a3e/tqdm-4.49.0-py2.py3-none-any.whl#sha256=8f3c5815e3b5e20bc40463fa6b42a352178859692a68ffaa469706e6d38342a5\n",
      "Best match: tqdm 4.49.0\n",
      "Processing tqdm-4.49.0-py2.py3-none-any.whl\n",
      "Installing tqdm-4.49.0-py2.py3-none-any.whl to /anaconda/envs/venv/lib/python3.6/site-packages\n",
      "Adding tqdm 4.49.0 to easy-install.pth file\n",
      "Installing tqdm script to /anaconda/envs/venv/bin\n",
      "\n",
      "Installed /anaconda/envs/venv/lib/python3.6/site-packages/tqdm-4.49.0-py3.6.egg\n",
      "Searching for torch==1.8.0\n",
      "Best match: torch 1.8.0\n",
      "Processing torch-1.8.0-py3.6-linux-x86_64.egg\n",
      "torch 1.8.0 is already the active version in easy-install.pth\n",
      "Installing convert-caffe2-to-onnx script to /anaconda/envs/venv/bin\n",
      "Installing convert-onnx-to-caffe2 script to /anaconda/envs/venv/bin\n",
      "\n",
      "Using /anaconda/envs/venv/lib/python3.6/site-packages/torch-1.8.0-py3.6-linux-x86_64.egg\n",
      "Searching for transformers==4.4.2\n",
      "Best match: transformers 4.4.2\n",
      "Processing transformers-4.4.2-py3.6.egg\n",
      "transformers 4.4.2 is already the active version in easy-install.pth\n",
      "Installing transformers-cli script to /anaconda/envs/venv/bin\n",
      "\n",
      "Using /anaconda/envs/venv/lib/python3.6/site-packages/transformers-4.4.2-py3.6.egg\n",
      "Searching for sentencepiece==0.1.95\n",
      "Best match: sentencepiece 0.1.95\n",
      "Processing sentencepiece-0.1.95-py3.6-linux-x86_64.egg\n",
      "sentencepiece 0.1.95 is already the active version in easy-install.pth\n",
      "\n",
      "Using /anaconda/envs/venv/lib/python3.6/site-packages/sentencepiece-0.1.95-py3.6-linux-x86_64.egg\n",
      "Searching for rouge-score==0.0.4\n",
      "Best match: rouge-score 0.0.4\n",
      "Processing rouge_score-0.0.4-py3.6.egg\n",
      "rouge-score 0.0.4 is already the active version in easy-install.pth\n",
      "\n",
      "Using /anaconda/envs/venv/lib/python3.6/site-packages/rouge_score-0.0.4-py3.6.egg\n",
      "Searching for pytorch-lightning==1.2.3\n",
      "Best match: pytorch-lightning 1.2.3\n",
      "Processing pytorch_lightning-1.2.3-py3.6.egg\n",
      "pytorch-lightning 1.2.3 is already the active version in easy-install.pth\n",
      "\n",
      "Using /anaconda/envs/venv/lib/python3.6/site-packages/pytorch_lightning-1.2.3-py3.6.egg\n",
      "Searching for datasets==1.4.1\n",
      "Best match: datasets 1.4.1\n",
      "Processing datasets-1.4.1-py3.6.egg\n",
      "datasets 1.4.1 is already the active version in easy-install.pth\n",
      "Installing datasets-cli script to /anaconda/envs/venv/bin\n",
      "\n",
      "Using /anaconda/envs/venv/lib/python3.6/site-packages/datasets-1.4.1-py3.6.egg\n",
      "Searching for typing-extensions==3.7.4.2\n",
      "Best match: typing-extensions 3.7.4.2\n",
      "Adding typing-extensions 3.7.4.2 to easy-install.pth file\n",
      "\n",
      "Using /anaconda/envs/venv/lib/python3.6/site-packages\n",
      "Searching for numpy==1.18.5\n",
      "Best match: numpy 1.18.5\n",
      "Adding numpy 1.18.5 to easy-install.pth file\n",
      "Installing f2py script to /anaconda/envs/venv/bin\n",
      "Installing f2py3 script to /anaconda/envs/venv/bin\n",
      "Installing f2py3.6 script to /anaconda/envs/venv/bin\n",
      "\n",
      "Using /anaconda/envs/venv/lib/python3.6/site-packages\n",
      "Searching for dataclasses==0.8\n",
      "Best match: dataclasses 0.8\n",
      "Processing dataclasses-0.8-py3.6.egg\n",
      "dataclasses 0.8 is already the active version in easy-install.pth\n",
      "\n",
      "Using /anaconda/envs/venv/lib/python3.6/site-packages/dataclasses-0.8-py3.6.egg\n",
      "Searching for tokenizers==0.10.1\n",
      "Best match: tokenizers 0.10.1\n",
      "Processing tokenizers-0.10.1-py3.6-linux-x86_64.egg\n",
      "tokenizers 0.10.1 is already the active version in easy-install.pth\n",
      "\n",
      "Using /anaconda/envs/venv/lib/python3.6/site-packages/tokenizers-0.10.1-py3.6-linux-x86_64.egg\n",
      "Searching for sacremoses==0.0.43\n",
      "Best match: sacremoses 0.0.43\n",
      "Processing sacremoses-0.0.43-py3.6.egg\n",
      "sacremoses 0.0.43 is already the active version in easy-install.pth\n",
      "Installing sacremoses script to /anaconda/envs/venv/bin\n",
      "\n",
      "Using /anaconda/envs/venv/lib/python3.6/site-packages/sacremoses-0.0.43-py3.6.egg\n",
      "Searching for requests==2.24.0\n",
      "Best match: requests 2.24.0\n",
      "Adding requests 2.24.0 to easy-install.pth file\n",
      "\n",
      "Using /anaconda/envs/venv/lib/python3.6/site-packages\n",
      "Searching for regex==2020.6.8\n",
      "Best match: regex 2020.6.8\n",
      "Adding regex 2020.6.8 to easy-install.pth file\n",
      "\n",
      "Using /anaconda/envs/venv/lib/python3.6/site-packages\n",
      "Searching for packaging==20.4\n",
      "Best match: packaging 20.4\n",
      "Adding packaging 20.4 to easy-install.pth file\n",
      "\n",
      "Using /anaconda/envs/venv/lib/python3.6/site-packages\n",
      "Searching for importlib-metadata==1.7.0\n",
      "Best match: importlib-metadata 1.7.0\n",
      "Adding importlib-metadata 1.7.0 to easy-install.pth file\n",
      "\n",
      "Using /anaconda/envs/venv/lib/python3.6/site-packages\n",
      "Searching for filelock==3.0.12\n",
      "Best match: filelock 3.0.12\n",
      "Adding filelock 3.0.12 to easy-install.pth file\n",
      "\n",
      "Using /anaconda/envs/venv/lib/python3.6/site-packages\n",
      "Searching for six==1.15.0\n",
      "Best match: six 1.15.0\n",
      "Adding six 1.15.0 to easy-install.pth file\n",
      "\n",
      "Using /anaconda/envs/venv/lib/python3.6/site-packages\n",
      "Searching for nltk==3.5\n",
      "Best match: nltk 3.5\n",
      "Adding nltk 3.5 to easy-install.pth file\n",
      "Installing nltk script to /anaconda/envs/venv/bin\n",
      "\n",
      "Using /anaconda/envs/venv/lib/python3.6/site-packages\n",
      "Searching for absl-py==0.12.0\n",
      "Best match: absl-py 0.12.0\n",
      "Processing absl_py-0.12.0-py3.6.egg\n",
      "absl-py 0.12.0 is already the active version in easy-install.pth\n",
      "\n",
      "Using /anaconda/envs/venv/lib/python3.6/site-packages/absl_py-0.12.0-py3.6.egg\n",
      "Searching for tensorboard==2.4.1\n",
      "Best match: tensorboard 2.4.1\n",
      "Processing tensorboard-2.4.1-py3.6.egg\n",
      "tensorboard 2.4.1 is already the active version in easy-install.pth\n",
      "Installing tensorboard script to /anaconda/envs/venv/bin\n",
      "\n",
      "Using /anaconda/envs/venv/lib/python3.6/site-packages/tensorboard-2.4.1-py3.6.egg\n",
      "Searching for future==0.18.2\n",
      "Best match: future 0.18.2\n",
      "Adding future 0.18.2 to easy-install.pth file\n",
      "Installing futurize script to /anaconda/envs/venv/bin\n",
      "Installing pasteurize script to /anaconda/envs/venv/bin\n",
      "\n",
      "Using /anaconda/envs/venv/lib/python3.6/site-packages\n",
      "Searching for fsspec==0.8.7\n",
      "Best match: fsspec 0.8.7\n",
      "Processing fsspec-0.8.7-py3.6.egg\n",
      "fsspec 0.8.7 is already the active version in easy-install.pth\n",
      "\n",
      "Using /anaconda/envs/venv/lib/python3.6/site-packages/fsspec-0.8.7-py3.6.egg\n",
      "Searching for PyYAML==5.3.1\n",
      "Best match: PyYAML 5.3.1\n",
      "Adding PyYAML 5.3.1 to easy-install.pth file\n",
      "\n",
      "Using /anaconda/envs/venv/lib/python3.6/site-packages\n",
      "Searching for xxhash==2.0.0\n",
      "Best match: xxhash 2.0.0\n",
      "Processing xxhash-2.0.0-py3.6-linux-x86_64.egg\n",
      "xxhash 2.0.0 is already the active version in easy-install.pth\n",
      "\n",
      "Using /anaconda/envs/venv/lib/python3.6/site-packages/xxhash-2.0.0-py3.6-linux-x86_64.egg\n",
      "Searching for pyarrow==3.0.0\n",
      "Best match: pyarrow 3.0.0\n",
      "Processing pyarrow-3.0.0-py3.6-linux-x86_64.egg\n",
      "pyarrow 3.0.0 is already the active version in easy-install.pth\n",
      "Installing plasma_store script to /anaconda/envs/venv/bin\n",
      "\n",
      "Using /anaconda/envs/venv/lib/python3.6/site-packages/pyarrow-3.0.0-py3.6-linux-x86_64.egg\n",
      "Searching for pandas==1.0.5\n",
      "Best match: pandas 1.0.5\n",
      "Adding pandas 1.0.5 to easy-install.pth file\n",
      "\n",
      "Using /anaconda/envs/venv/lib/python3.6/site-packages\n",
      "Searching for multiprocess==0.70.11.1\n",
      "Best match: multiprocess 0.70.11.1\n",
      "Processing multiprocess-0.70.11.1-py3.6.egg\n",
      "multiprocess 0.70.11.1 is already the active version in easy-install.pth\n",
      "\n",
      "Using /anaconda/envs/venv/lib/python3.6/site-packages/multiprocess-0.70.11.1-py3.6.egg\n",
      "Searching for huggingface-hub==0.0.2\n",
      "Best match: huggingface-hub 0.0.2\n",
      "Processing huggingface_hub-0.0.2-py3.6.egg\n",
      "huggingface-hub 0.0.2 is already the active version in easy-install.pth\n",
      "Installing huggingface-cli script to /anaconda/envs/venv/bin\n",
      "\n",
      "Using /anaconda/envs/venv/lib/python3.6/site-packages/huggingface_hub-0.0.2-py3.6.egg\n",
      "Searching for dill==0.3.3\n",
      "Best match: dill 0.3.3\n",
      "Processing dill-0.3.3-py3.6.egg\n",
      "dill 0.3.3 is already the active version in easy-install.pth\n",
      "Installing undill script to /anaconda/envs/venv/bin\n",
      "Installing get_objgraph script to /anaconda/envs/venv/bin\n",
      "\n",
      "Using /anaconda/envs/venv/lib/python3.6/site-packages/dill-0.3.3-py3.6.egg\n",
      "Searching for joblib==0.16.0\n",
      "Best match: joblib 0.16.0\n",
      "Adding joblib 0.16.0 to easy-install.pth file\n",
      "\n",
      "Using /anaconda/envs/venv/lib/python3.6/site-packages\n",
      "Searching for click==7.1.2\n",
      "Best match: click 7.1.2\n",
      "Adding click 7.1.2 to easy-install.pth file\n",
      "\n",
      "Using /anaconda/envs/venv/lib/python3.6/site-packages\n",
      "Searching for urllib3==1.25.9\n",
      "Best match: urllib3 1.25.9\n",
      "Adding urllib3 1.25.9 to easy-install.pth file\n",
      "\n",
      "Using /anaconda/envs/venv/lib/python3.6/site-packages\n",
      "Searching for idna==2.10\n",
      "Best match: idna 2.10\n",
      "Adding idna 2.10 to easy-install.pth file\n",
      "\n",
      "Using /anaconda/envs/venv/lib/python3.6/site-packages\n",
      "Searching for chardet==3.0.4\n",
      "Best match: chardet 3.0.4\n",
      "Adding chardet 3.0.4 to easy-install.pth file\n",
      "Installing chardetect script to /anaconda/envs/venv/bin\n",
      "\n",
      "Using /anaconda/envs/venv/lib/python3.6/site-packages\n",
      "Searching for certifi==2020.6.20\n",
      "Best match: certifi 2020.6.20\n",
      "Adding certifi 2020.6.20 to easy-install.pth file\n",
      "\n",
      "Using /anaconda/envs/venv/lib/python3.6/site-packages\n",
      "Searching for pyparsing==2.4.7\n",
      "Best match: pyparsing 2.4.7\n",
      "Adding pyparsing 2.4.7 to easy-install.pth file\n",
      "\n",
      "Using /anaconda/envs/venv/lib/python3.6/site-packages\n",
      "Searching for zipp==3.1.0\n",
      "Best match: zipp 3.1.0\n",
      "Adding zipp 3.1.0 to easy-install.pth file\n",
      "\n",
      "Using /anaconda/envs/venv/lib/python3.6/site-packages\n",
      "Searching for wheel==0.34.2\n",
      "Best match: wheel 0.34.2\n",
      "Adding wheel 0.34.2 to easy-install.pth file\n",
      "Installing wheel script to /anaconda/envs/venv/bin\n",
      "\n",
      "Using /anaconda/envs/venv/lib/python3.6/site-packages\n",
      "Searching for Werkzeug==1.0.1\n",
      "Best match: Werkzeug 1.0.1\n",
      "Adding Werkzeug 1.0.1 to easy-install.pth file\n",
      "\n",
      "Using /anaconda/envs/venv/lib/python3.6/site-packages\n",
      "Searching for tensorboard-plugin-wit==1.8.0\n",
      "Best match: tensorboard-plugin-wit 1.8.0\n",
      "Processing tensorboard_plugin_wit-1.8.0-py3.6.egg\n",
      "tensorboard-plugin-wit 1.8.0 is already the active version in easy-install.pth\n",
      "\n",
      "Using /anaconda/envs/venv/lib/python3.6/site-packages/tensorboard_plugin_wit-1.8.0-py3.6.egg\n",
      "Searching for setuptools==49.2.0.post20200714\n",
      "Best match: setuptools 49.2.0.post20200714\n",
      "Adding setuptools 49.2.0.post20200714 to easy-install.pth file\n",
      "Installing easy_install script to /anaconda/envs/venv/bin\n",
      "\n",
      "Using /anaconda/envs/venv/lib/python3.6/site-packages\n",
      "Searching for protobuf==4.0.0rc2\n",
      "Best match: protobuf 4.0.0rc2\n",
      "Processing protobuf-4.0.0rc2-py3.6.egg\n",
      "protobuf 4.0.0rc2 is already the active version in easy-install.pth\n",
      "\n",
      "Using /anaconda/envs/venv/lib/python3.6/site-packages/protobuf-4.0.0rc2-py3.6.egg\n",
      "Searching for Markdown==3.3.4\n",
      "Best match: Markdown 3.3.4\n",
      "Processing Markdown-3.3.4-py3.6.egg\n",
      "Markdown 3.3.4 is already the active version in easy-install.pth\n",
      "Installing markdown_py script to /anaconda/envs/venv/bin\n",
      "\n",
      "Using /anaconda/envs/venv/lib/python3.6/site-packages/Markdown-3.3.4-py3.6.egg\n",
      "Searching for grpcio==1.36.1\n",
      "Best match: grpcio 1.36.1\n",
      "Processing grpcio-1.36.1-py3.6-linux-x86_64.egg\n",
      "grpcio 1.36.1 is already the active version in easy-install.pth\n",
      "\n",
      "Using /anaconda/envs/venv/lib/python3.6/site-packages/grpcio-1.36.1-py3.6-linux-x86_64.egg\n",
      "Searching for google-auth==1.28.0\n",
      "Best match: google-auth 1.28.0\n",
      "Processing google_auth-1.28.0-py3.6.egg\n",
      "google-auth 1.28.0 is already the active version in easy-install.pth\n",
      "\n",
      "Using /anaconda/envs/venv/lib/python3.6/site-packages/google_auth-1.28.0-py3.6.egg\n",
      "Searching for google-auth-oauthlib==0.4.3\n",
      "Best match: google-auth-oauthlib 0.4.3\n",
      "Processing google_auth_oauthlib-0.4.3-py3.6.egg\n",
      "google-auth-oauthlib 0.4.3 is already the active version in easy-install.pth\n",
      "Installing google-oauthlib-tool script to /anaconda/envs/venv/bin\n",
      "\n",
      "Using /anaconda/envs/venv/lib/python3.6/site-packages/google_auth_oauthlib-0.4.3-py3.6.egg\n",
      "Searching for aiohttp==4.0.0a1\n",
      "Best match: aiohttp 4.0.0a1\n",
      "Processing aiohttp-4.0.0a1-py3.6-linux-x86_64.egg\n",
      "aiohttp 4.0.0a1 is already the active version in easy-install.pth\n",
      "\n",
      "Using /anaconda/envs/venv/lib/python3.6/site-packages/aiohttp-4.0.0a1-py3.6-linux-x86_64.egg\n",
      "Searching for pytz==2020.1\r\n",
      "Best match: pytz 2020.1\r\n",
      "Adding pytz 2020.1 to easy-install.pth file\r\n",
      "\r\n",
      "Using /anaconda/envs/venv/lib/python3.6/site-packages\r\n",
      "Searching for python-dateutil==2.8.1\r\n",
      "Best match: python-dateutil 2.8.1\r\n",
      "Adding python-dateutil 2.8.1 to easy-install.pth file\r\n",
      "\r\n",
      "Using /anaconda/envs/venv/lib/python3.6/site-packages\r\n",
      "Searching for rsa==4.7.2\r\n",
      "Best match: rsa 4.7.2\r\n",
      "Processing rsa-4.7.2-py3.6.egg\r\n",
      "rsa 4.7.2 is already the active version in easy-install.pth\r\n",
      "Installing pyrsa-decrypt script to /anaconda/envs/venv/bin\r\n",
      "Installing pyrsa-encrypt script to /anaconda/envs/venv/bin\r\n",
      "Installing pyrsa-keygen script to /anaconda/envs/venv/bin\r\n",
      "Installing pyrsa-priv2pub script to /anaconda/envs/venv/bin\r\n",
      "Installing pyrsa-sign script to /anaconda/envs/venv/bin\r\n",
      "Installing pyrsa-verify script to /anaconda/envs/venv/bin\r\n",
      "\r\n",
      "Using /anaconda/envs/venv/lib/python3.6/site-packages/rsa-4.7.2-py3.6.egg\r\n",
      "Searching for pyasn1-modules==0.2.8\r\n",
      "Best match: pyasn1-modules 0.2.8\r\n",
      "Processing pyasn1_modules-0.2.8-py3.6.egg\r\n",
      "pyasn1-modules 0.2.8 is already the active version in easy-install.pth\r\n",
      "\r\n",
      "Using /anaconda/envs/venv/lib/python3.6/site-packages/pyasn1_modules-0.2.8-py3.6.egg\r\n",
      "Searching for cachetools==4.2.1\r\n",
      "Best match: cachetools 4.2.1\r\n",
      "Processing cachetools-4.2.1-py3.6.egg\r\n",
      "cachetools 4.2.1 is already the active version in easy-install.pth\r\n",
      "\r\n",
      "Using /anaconda/envs/venv/lib/python3.6/site-packages/cachetools-4.2.1-py3.6.egg\r\n",
      "Searching for requests-oauthlib==1.3.0\r\n",
      "Best match: requests-oauthlib 1.3.0\r\n",
      "Processing requests_oauthlib-1.3.0-py3.6.egg\r\n",
      "requests-oauthlib 1.3.0 is already the active version in easy-install.pth\r\n",
      "\r\n",
      "Using /anaconda/envs/venv/lib/python3.6/site-packages/requests_oauthlib-1.3.0-py3.6.egg\r\n",
      "Searching for yarl==1.6.3\r\n",
      "Best match: yarl 1.6.3\r\n",
      "Processing yarl-1.6.3-py3.6-linux-x86_64.egg\r\n",
      "yarl 1.6.3 is already the active version in easy-install.pth\r\n",
      "\r\n",
      "Using /anaconda/envs/venv/lib/python3.6/site-packages/yarl-1.6.3-py3.6-linux-x86_64.egg\r\n",
      "Searching for multidict==4.7.6\r\n",
      "Best match: multidict 4.7.6\r\n",
      "Processing multidict-4.7.6-py3.6-linux-x86_64.egg\r\n",
      "multidict 4.7.6 is already the active version in easy-install.pth\r\n",
      "\r\n",
      "Using /anaconda/envs/venv/lib/python3.6/site-packages/multidict-4.7.6-py3.6-linux-x86_64.egg\r\n",
      "Searching for idna-ssl==1.1.0\r\n",
      "Best match: idna-ssl 1.1.0\r\n",
      "Processing idna_ssl-1.1.0-py3.6.egg\r\n",
      "idna-ssl 1.1.0 is already the active version in easy-install.pth\r\n",
      "\r\n",
      "Using /anaconda/envs/venv/lib/python3.6/site-packages/idna_ssl-1.1.0-py3.6.egg\r\n",
      "Searching for attrs==19.3.0\r\n",
      "Best match: attrs 19.3.0\r\n",
      "Adding attrs 19.3.0 to easy-install.pth file\r\n",
      "\r\n",
      "Using /anaconda/envs/venv/lib/python3.6/site-packages\r\n",
      "Searching for async-timeout==3.0.1\r\n",
      "Best match: async-timeout 3.0.1\r\n",
      "Processing async_timeout-3.0.1-py3.6.egg\r\n",
      "async-timeout 3.0.1 is already the active version in easy-install.pth\r\n",
      "\r\n",
      "Using /anaconda/envs/venv/lib/python3.6/site-packages/async_timeout-3.0.1-py3.6.egg\r\n",
      "Searching for pyasn1==0.4.8\r\n",
      "Best match: pyasn1 0.4.8\r\n",
      "Processing pyasn1-0.4.8-py3.6.egg\r\n",
      "pyasn1 0.4.8 is already the active version in easy-install.pth\r\n",
      "\r\n",
      "Using /anaconda/envs/venv/lib/python3.6/site-packages/pyasn1-0.4.8-py3.6.egg\r\n",
      "Searching for oauthlib==3.1.0\r\n",
      "Best match: oauthlib 3.1.0\r\n",
      "Processing oauthlib-3.1.0-py3.6.egg\r\n",
      "oauthlib 3.1.0 is already the active version in easy-install.pth\r\n",
      "\r\n",
      "Using /anaconda/envs/venv/lib/python3.6/site-packages/oauthlib-3.1.0-py3.6.egg\r\n",
      "Finished processing dependencies for intunlu==1.0.0\r\n"
     ]
    }
   ],
   "source": [
    "!python setup.py install"
   ]
  },
  {
   "cell_type": "code",
   "execution_count": 4,
   "metadata": {},
   "outputs": [],
   "source": [
    "from intunlu.train import *\n",
    "from intunlu.evaluate import evaluate_ensemble"
   ]
  },
  {
   "cell_type": "code",
   "execution_count": 5,
   "metadata": {},
   "outputs": [
    {
     "data": {
      "application/vnd.jupyter.widget-view+json": {
       "model_id": "6bcfa512031a4e529259f23c913384c0",
       "version_major": 2,
       "version_minor": 0
      },
      "text/plain": [
       "HBox(children=(FloatProgress(value=0.0, description='Downloading', max=1966.0, style=ProgressStyle(description…"
      ]
     },
     "metadata": {},
     "output_type": "display_data"
    },
    {
     "name": "stdout",
     "output_type": "stream",
     "text": [
      "\n"
     ]
    },
    {
     "data": {
      "application/vnd.jupyter.widget-view+json": {
       "model_id": "32944bd944c2441b8df2b6ad5fc19e57",
       "version_major": 2,
       "version_minor": 0
      },
      "text/plain": [
       "HBox(children=(FloatProgress(value=0.0, description='Downloading', max=954.0, style=ProgressStyle(description_…"
      ]
     },
     "metadata": {},
     "output_type": "display_data"
    },
    {
     "name": "stderr",
     "output_type": "stream",
     "text": [
      "Using custom data configuration default\n"
     ]
    },
    {
     "name": "stdout",
     "output_type": "stream",
     "text": [
      "\n",
      "Downloading and preparing dataset xsum/default (download: 245.38 MiB, generated: 507.60 MiB, post-processed: Unknown size, total: 752.98 MiB) to /home/scpdxcs/.cache/huggingface/datasets/xsum/default/1.2.0/f9abaabb5e2b2a1e765c25417264722d31877b34ec34b437c53242f6e5c30d6d...\n"
     ]
    },
    {
     "data": {
      "application/vnd.jupyter.widget-view+json": {
       "model_id": "3a0a6395985749f9827fe608d2f7d1ed",
       "version_major": 2,
       "version_minor": 0
      },
      "text/plain": [
       "HBox(children=(FloatProgress(value=0.0, description='Downloading', max=254582292.0, style=ProgressStyle(descri…"
      ]
     },
     "metadata": {},
     "output_type": "display_data"
    },
    {
     "name": "stdout",
     "output_type": "stream",
     "text": [
      "\n"
     ]
    },
    {
     "data": {
      "application/vnd.jupyter.widget-view+json": {
       "model_id": "aa917c6c21a54d3d9f672f8bc0aa6ee9",
       "version_major": 2,
       "version_minor": 0
      },
      "text/plain": [
       "HBox(children=(FloatProgress(value=0.0, description='Downloading', max=1001503.0, style=ProgressStyle(descript…"
      ]
     },
     "metadata": {},
     "output_type": "display_data"
    },
    {
     "name": "stdout",
     "output_type": "stream",
     "text": [
      "\n"
     ]
    },
    {
     "data": {
      "application/vnd.jupyter.widget-view+json": {
       "model_id": "",
       "version_major": 2,
       "version_minor": 0
      },
      "text/plain": [
       "HBox(children=(FloatProgress(value=1.0, bar_style='info', max=1.0), HTML(value='')))"
      ]
     },
     "metadata": {},
     "output_type": "display_data"
    },
    {
     "data": {
      "application/vnd.jupyter.widget-view+json": {
       "model_id": "",
       "version_major": 2,
       "version_minor": 0
      },
      "text/plain": [
       "HBox(children=(FloatProgress(value=1.0, bar_style='info', max=1.0), HTML(value='')))"
      ]
     },
     "metadata": {},
     "output_type": "display_data"
    },
    {
     "data": {
      "application/vnd.jupyter.widget-view+json": {
       "model_id": "",
       "version_major": 2,
       "version_minor": 0
      },
      "text/plain": [
       "HBox(children=(FloatProgress(value=1.0, bar_style='info', max=1.0), HTML(value='')))"
      ]
     },
     "metadata": {},
     "output_type": "display_data"
    },
    {
     "name": "stdout",
     "output_type": "stream",
     "text": [
      "Dataset xsum downloaded and prepared to /home/scpdxcs/.cache/huggingface/datasets/xsum/default/1.2.0/f9abaabb5e2b2a1e765c25417264722d31877b34ec34b437c53242f6e5c30d6d. Subsequent calls will reuse this data.\n"
     ]
    },
    {
     "name": "stderr",
     "output_type": "stream",
     "text": [
      "WARNING:datasets.builder:Using custom data configuration default\n",
      "WARNING:datasets.builder:Reusing dataset xsum (/home/scpdxcs/.cache/huggingface/datasets/xsum/default/1.2.0/f9abaabb5e2b2a1e765c25417264722d31877b34ec34b437c53242f6e5c30d6d)\n",
      "WARNING:datasets.builder:Using custom data configuration default\n",
      "WARNING:datasets.builder:Reusing dataset xsum (/home/scpdxcs/.cache/huggingface/datasets/xsum/default/1.2.0/f9abaabb5e2b2a1e765c25417264722d31877b34ec34b437c53242f6e5c30d6d)\n"
     ]
    }
   ],
   "source": [
    "datasets = load_data(max_num_samples=5)"
   ]
  },
  {
   "cell_type": "code",
   "execution_count": 6,
   "metadata": {},
   "outputs": [
    {
     "name": "stdout",
     "output_type": "stream",
     "text": [
      "README.md  build  dist\tintunlu  intunlu.egg-info  notebooks  setup.py\r\n"
     ]
    }
   ],
   "source": [
    "!ls"
   ]
  },
  {
   "cell_type": "code",
   "execution_count": 7,
   "metadata": {},
   "outputs": [],
   "source": [
    "dataset = datasets['test']"
   ]
  },
  {
   "cell_type": "code",
   "execution_count": 8,
   "metadata": {},
   "outputs": [
    {
     "name": "stdout",
     "output_type": "stream",
     "text": [
      "Loading ../summarizer_1234\n"
     ]
    },
    {
     "data": {
      "application/vnd.jupyter.widget-view+json": {
       "model_id": "7e73c5894dba4b7a8e08b5042ac970cc",
       "version_major": 2,
       "version_minor": 0
      },
      "text/plain": [
       "HBox(children=(FloatProgress(value=0.0, description='Downloading', max=1553.0, style=ProgressStyle(description…"
      ]
     },
     "metadata": {},
     "output_type": "display_data"
    },
    {
     "name": "stdout",
     "output_type": "stream",
     "text": [
      "\n"
     ]
    },
    {
     "data": {
      "application/vnd.jupyter.widget-view+json": {
       "model_id": "f981c1c557eb4c049d70b240093358d1",
       "version_major": 2,
       "version_minor": 0
      },
      "text/plain": [
       "HBox(children=(FloatProgress(value=0.0, description='Downloading', max=557941479.0, style=ProgressStyle(descri…"
      ]
     },
     "metadata": {},
     "output_type": "display_data"
    },
    {
     "name": "stdout",
     "output_type": "stream",
     "text": [
      "\n",
      "Loading ../summarizer_1235\n",
      "The input document:\n",
      "summarize: Tanks were seen on the streets and explosions could be heard throughout the day in Libya's second-biggest city. General Khalifa Haftar, who accuses the government of supporting terrorism, began an assault against Islamist fighters in the city last month. The government in Tripoli says Gen Haftar has no authority to act, but several army units have joined him. The BBC's Rana Jawad in Tripoli says a battalion within one of the biggest rival militias has also defected to join the general. The clashes on Sunday were said to have been some of the worst since Gen Haftar began his offensive against Islamists, dubbed \"Operation Dignity,\" in May. Residents told the BBC that explosions could be heard across the city intermittently for several hours. An electricity plant was also hit by rockets, causing power outages in large parts of Benghazi. Many residents who live in the area where the fighting erupted fled their homes to stay with relatives or friends in quieter neighbourhoods. The number of casualties remains unclear but doctors in the city said at least six people had been killed and a dozen more injured. A spokesman for Gen Haftar's force told local media that they had seized several senior Islamists as part of their offensive, but this could not be independently verified. Since launching his offensive, Gen Haftar has rallied support from the public and members of the security forces. He survived an assassination attempt earlier in June after a suicide bomb attack on his home in the town of Abyar, about 60km (37 miles) east of Benghazi. Libya is still in turmoil three years after the fall of Muammar Gaddafi, with political, religious and political factions locked in disagreement about the country's future. Profile: General Khalifa Haftar\n",
      "The reference summary:\n",
      "Fresh clashes broke out in Benghazi on Sunday after a rogue general launched a fresh assault on Islamist militants.\n",
      "The predicted summary:\n",
      "At least six people have been killed and dozens injured in clashes between rival forces in the\n",
      "The input document:\n",
      "summarize: At least two missiles were fired at a house in North Waziristan tribal region early on Wednesday, the deadliest drone attack in Pakistan this year. It is the third such attack since new PM Nawaz Sharif won elections in May. He has demanded an end to such attacks. A government statement said the strike violated Pakistan's sovereignty. \"Pakistan has repeatedly emphasised the importance of bringing an immediate end to drone strikes,\" a foreign ministry spokesman said. \"They are counter-productive, entail loss of innocent civilian lives and have human rights and humanitarian implications.\" In a separate development, at least six security personnel are reported to have been killed and at least six more injured in an early morning attack by militants at a checkpoint near Peshawar. At least two more are reported to be missing, possibly kidnapped by the attackers. Reports citing local officials said most of those killed in the drone strike were thought to be from the militant Haqqani group. Officials say four missiles were fired by a US drone, targeting two houses and two vehicles, near Miranshah, the main town in North Waziristan. A number of other people were also injured. The Haqqani network has been described by US military commanders as one of the most resilient militant groups operating in Afghanistan. The troubled border region is a known stronghold for al-Qaeda and Taliban militants. Seven people were killed in a similar strike on 8 June, also in North Waziristan, just three days after the new prime minister was sworn in. After that incident the Pakistani government summoned a senior US diplomat in protest, condemning what it called a \"violation of Pakistan's sovereignty and territorial integrity\". At least two key leaders of the Pakistani Taliban have been killed in earlier US drone strikes this year. Mullah Nazir was killed in January and Waliur Rehman was killed in May, shortly after Mr Sharif swept to election victory. The BBC's Richard Galpin in Islamabad says that the latest air strike by US forces will further heighten tensions between Washington and the new Pakistani government. Mr Sharif has called for a joint strategy to stop US drone strikes. The issue is hugely controversial in Pakistan, where parts of the government and military have often been accused of criticising the use of drones in public, but co-operating in private. Drone strikes are a source of severe tension between the US and Pakistan. It is estimated that between 2004 and 2013, CIA drone attacks in Pakistan killed up to 3,460 people. About 890 of them were civilians and the vast majority of strikes were carried out by the Obama administration, research by the Bureau of Investigative Journalism said. Earlier this year, Mr Obama called the strikes part of a legitimate campaign against terrorism, but he also pledged more programme transparency and stricter targeting rules.\n",
      "The reference summary:\n",
      "At least 17 people have been killed in a suspected US drone strike on a compound in north-west Pakistan, Pakistani officials say.\n",
      "The predicted summary:\n",
      "Pakistan has condemned an air strike by the US drone that killed at least seven people in\n",
      "Metrics:\n",
      "Average rouge1 score: 0.23364098652428172\n",
      "Average rouge2 score: 0.06087187666135034\n",
      "Average rougeL score: 0.2176589423648247\n",
      "Done with evaluation.\n"
     ]
    }
   ],
   "source": [
    "evaluate_ensemble([\"../summarizer_1234\",\"../summarizer_1235\"], dataset)"
   ]
  },
  {
   "cell_type": "code",
   "execution_count": null,
   "metadata": {},
   "outputs": [],
   "source": []
  }
 ],
 "metadata": {
  "kernelspec": {
   "display_name": "Python 3",
   "language": "python",
   "name": "python3"
  },
  "language_info": {
   "codemirror_mode": {
    "name": "ipython",
    "version": 3
   },
   "file_extension": ".py",
   "mimetype": "text/x-python",
   "name": "python",
   "nbconvert_exporter": "python",
   "pygments_lexer": "ipython3",
   "version": "3.6.10"
  }
 },
 "nbformat": 4,
 "nbformat_minor": 5
}
